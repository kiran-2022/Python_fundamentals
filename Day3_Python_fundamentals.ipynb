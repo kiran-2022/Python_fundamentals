{
 "cells": [
  {
   "cell_type": "code",
   "execution_count": 1,
   "id": "f51d6a92",
   "metadata": {},
   "outputs": [
    {
     "name": "stdout",
     "output_type": "stream",
     "text": [
      "Pythonawssparkabinitio\n"
     ]
    }
   ],
   "source": [
    "print(\"Pythonawssparkabinitio\")"
   ]
  },
  {
   "cell_type": "code",
   "execution_count": 2,
   "id": "11fdfee7",
   "metadata": {},
   "outputs": [
    {
     "name": "stdout",
     "output_type": "stream",
     "text": [
      "Latest Technologies:\n",
      "Python\n",
      "AWS\n",
      "Spark\n",
      "Abinitio\n"
     ]
    }
   ],
   "source": [
    "print(\"Latest Technologies:\\nPython\\nAWS\\nSpark\\nAbinitio\")"
   ]
  },
  {
   "cell_type": "code",
   "execution_count": 3,
   "id": "dcde4595",
   "metadata": {},
   "outputs": [
    {
     "name": "stdout",
     "output_type": "stream",
     "text": [
      "Latest Technologies:\n",
      "\tPython\n",
      "\tAWS\n",
      "\tSpark\n",
      "\tAbinitio\n"
     ]
    }
   ],
   "source": [
    "print(\"Latest Technologies:\\n\\tPython\\n\\tAWS\\n\\tSpark\\n\\tAbinitio\")"
   ]
  },
  {
   "cell_type": "code",
   "execution_count": 4,
   "id": "6e6eb7f9",
   "metadata": {},
   "outputs": [
    {
     "name": "stdout",
     "output_type": "stream",
     "text": [
      "<class 'str'>\n"
     ]
    }
   ],
   "source": [
    "full_name='kiran'\n",
    "\n",
    "print(type(full_name))"
   ]
  },
  {
   "cell_type": "code",
   "execution_count": 5,
   "id": "3fc93fb3",
   "metadata": {},
   "outputs": [
    {
     "name": "stdout",
     "output_type": "stream",
     "text": [
      "Kiran Kumar Reddy\n"
     ]
    }
   ],
   "source": [
    "name = 'kiran kumar reddy'\n",
    "\n",
    "print(name.title())"
   ]
  },
  {
   "cell_type": "code",
   "execution_count": 6,
   "id": "81508ba4",
   "metadata": {},
   "outputs": [
    {
     "name": "stdout",
     "output_type": "stream",
     "text": [
      "The current cource is PYTHON\n"
     ]
    }
   ],
   "source": [
    "cource='python'\n",
    "\n",
    "print(f\"The current cource is\",cource.upper())"
   ]
  },
  {
   "cell_type": "code",
   "execution_count": 7,
   "id": "a3710b30",
   "metadata": {},
   "outputs": [
    {
     "name": "stdout",
     "output_type": "stream",
     "text": [
      "The current cource is python\n"
     ]
    }
   ],
   "source": [
    "print(f\"The current cource is\",cource.lower())"
   ]
  },
  {
   "cell_type": "code",
   "execution_count": 8,
   "id": "8f57f32a",
   "metadata": {},
   "outputs": [
    {
     "name": "stdout",
     "output_type": "stream",
     "text": [
      "The Full Name is GAGANA REDDY\n"
     ]
    }
   ],
   "source": [
    "fname='gagana'\n",
    "lname='reddy'\n",
    "\n",
    "print(f\"The Full Name is\",fname.upper(),lname.upper())"
   ]
  },
  {
   "cell_type": "code",
   "execution_count": 9,
   "id": "e2852b3d",
   "metadata": {},
   "outputs": [
    {
     "name": "stdout",
     "output_type": "stream",
     "text": [
      "The full name is ROHITH KUMAR\n"
     ]
    }
   ],
   "source": [
    "fname='rohith  '\n",
    "lname='  kumar'\n",
    "\n",
    "print(f\"The full name is\",fname.strip().upper(),lname.strip().upper())\n"
   ]
  },
  {
   "cell_type": "code",
   "execution_count": null,
   "id": "478ed4b4",
   "metadata": {},
   "outputs": [],
   "source": []
  }
 ],
 "metadata": {
  "kernelspec": {
   "display_name": "Python 3 (ipykernel)",
   "language": "python",
   "name": "python3"
  },
  "language_info": {
   "codemirror_mode": {
    "name": "ipython",
    "version": 3
   },
   "file_extension": ".py",
   "mimetype": "text/x-python",
   "name": "python",
   "nbconvert_exporter": "python",
   "pygments_lexer": "ipython3",
   "version": "3.9.7"
  }
 },
 "nbformat": 4,
 "nbformat_minor": 5
}
