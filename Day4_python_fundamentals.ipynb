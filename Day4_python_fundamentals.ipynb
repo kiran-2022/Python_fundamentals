{
 "cells": [
  {
   "cell_type": "code",
   "execution_count": null,
   "id": "714de2da",
   "metadata": {},
   "outputs": [],
   "source": [
    "##List "
   ]
  },
  {
   "cell_type": "code",
   "execution_count": 1,
   "id": "d584b118",
   "metadata": {},
   "outputs": [],
   "source": [
    "students = ['kiran','kumar','rohith','gagana']"
   ]
  },
  {
   "cell_type": "code",
   "execution_count": 2,
   "id": "0ab7d559",
   "metadata": {},
   "outputs": [
    {
     "name": "stdout",
     "output_type": "stream",
     "text": [
      "['kiran', 'kumar', 'rohith', 'gagana']\n"
     ]
    }
   ],
   "source": [
    "print(students)"
   ]
  },
  {
   "cell_type": "code",
   "execution_count": 3,
   "id": "c49750f8",
   "metadata": {},
   "outputs": [],
   "source": [
    "fruits = ['apple','banana','grapes','mango']"
   ]
  },
  {
   "cell_type": "code",
   "execution_count": 5,
   "id": "604b73dc",
   "metadata": {},
   "outputs": [
    {
     "name": "stdout",
     "output_type": "stream",
     "text": [
      "['apple', 'banana', 'grapes', 'mango']\n"
     ]
    }
   ],
   "source": [
    "print(fruits)"
   ]
  },
  {
   "cell_type": "code",
   "execution_count": 6,
   "id": "48756d3e",
   "metadata": {},
   "outputs": [
    {
     "name": "stdout",
     "output_type": "stream",
     "text": [
      "mango\n"
     ]
    }
   ],
   "source": [
    "print(fruits[3])"
   ]
  },
  {
   "cell_type": "code",
   "execution_count": 7,
   "id": "d77edc13",
   "metadata": {},
   "outputs": [
    {
     "data": {
      "text/plain": [
       "list"
      ]
     },
     "execution_count": 7,
     "metadata": {},
     "output_type": "execute_result"
    }
   ],
   "source": [
    "type(fruits)"
   ]
  },
  {
   "cell_type": "code",
   "execution_count": 8,
   "id": "158075bd",
   "metadata": {},
   "outputs": [],
   "source": [
    "fruits.append('papaya') #Addition of element"
   ]
  },
  {
   "cell_type": "code",
   "execution_count": 9,
   "id": "d35d98aa",
   "metadata": {},
   "outputs": [
    {
     "name": "stdout",
     "output_type": "stream",
     "text": [
      "['apple', 'banana', 'grapes', 'mango', 'papaya']\n"
     ]
    }
   ],
   "source": [
    "print(fruits)"
   ]
  },
  {
   "cell_type": "code",
   "execution_count": 10,
   "id": "1d55fd65",
   "metadata": {},
   "outputs": [],
   "source": [
    "fruits.append('strabery')"
   ]
  },
  {
   "cell_type": "code",
   "execution_count": 11,
   "id": "0b49fff4",
   "metadata": {},
   "outputs": [
    {
     "name": "stdout",
     "output_type": "stream",
     "text": [
      "['apple', 'banana', 'grapes', 'mango', 'papaya', 'strabery']\n"
     ]
    }
   ],
   "source": [
    "print(fruits)"
   ]
  },
  {
   "cell_type": "code",
   "execution_count": 13,
   "id": "e22c9e5a",
   "metadata": {},
   "outputs": [
    {
     "name": "stdout",
     "output_type": "stream",
     "text": [
      "Grapes\n"
     ]
    }
   ],
   "source": [
    "print(fruits[2].title())"
   ]
  },
  {
   "cell_type": "code",
   "execution_count": 14,
   "id": "02068ba2",
   "metadata": {},
   "outputs": [],
   "source": [
    "fruits.insert(3,'orange')"
   ]
  },
  {
   "cell_type": "code",
   "execution_count": 15,
   "id": "f0677562",
   "metadata": {},
   "outputs": [
    {
     "name": "stdout",
     "output_type": "stream",
     "text": [
      "['apple', 'banana', 'grapes', 'orange', 'mango', 'papaya', 'strabery']\n"
     ]
    }
   ],
   "source": [
    "print(fruits)"
   ]
  },
  {
   "cell_type": "code",
   "execution_count": 16,
   "id": "11bc2dad",
   "metadata": {},
   "outputs": [],
   "source": [
    "fruits[2]='Mosambi' #Modification "
   ]
  },
  {
   "cell_type": "code",
   "execution_count": 17,
   "id": "8eba3380",
   "metadata": {},
   "outputs": [
    {
     "name": "stdout",
     "output_type": "stream",
     "text": [
      "['apple', 'banana', 'Mosambi', 'orange', 'mango', 'papaya', 'strabery']\n"
     ]
    }
   ],
   "source": [
    "print(fruits)"
   ]
  },
  {
   "cell_type": "code",
   "execution_count": 18,
   "id": "5b75e83a",
   "metadata": {},
   "outputs": [],
   "source": [
    "students[3]='Ravi'"
   ]
  },
  {
   "cell_type": "code",
   "execution_count": 19,
   "id": "70563717",
   "metadata": {},
   "outputs": [
    {
     "name": "stdout",
     "output_type": "stream",
     "text": [
      "['kiran', 'kumar', 'rohith', 'Ravi']\n"
     ]
    }
   ],
   "source": [
    "print(students)"
   ]
  },
  {
   "cell_type": "code",
   "execution_count": 20,
   "id": "a226693d",
   "metadata": {},
   "outputs": [],
   "source": [
    "del students[3] #deletion "
   ]
  },
  {
   "cell_type": "code",
   "execution_count": 21,
   "id": "26287bd9",
   "metadata": {},
   "outputs": [
    {
     "name": "stdout",
     "output_type": "stream",
     "text": [
      "['kiran', 'kumar', 'rohith']\n"
     ]
    }
   ],
   "source": [
    "print(students)"
   ]
  },
  {
   "cell_type": "code",
   "execution_count": 22,
   "id": "404207eb",
   "metadata": {},
   "outputs": [],
   "source": [
    "del fruits[2]"
   ]
  },
  {
   "cell_type": "code",
   "execution_count": 23,
   "id": "3d182c49",
   "metadata": {},
   "outputs": [
    {
     "name": "stdout",
     "output_type": "stream",
     "text": [
      "['apple', 'banana', 'orange', 'mango', 'papaya', 'strabery']\n"
     ]
    }
   ],
   "source": [
    "print(fruits)"
   ]
  },
  {
   "cell_type": "code",
   "execution_count": null,
   "id": "0cf815e6",
   "metadata": {},
   "outputs": [],
   "source": []
  }
 ],
 "metadata": {
  "kernelspec": {
   "display_name": "Python 3 (ipykernel)",
   "language": "python",
   "name": "python3"
  },
  "language_info": {
   "codemirror_mode": {
    "name": "ipython",
    "version": 3
   },
   "file_extension": ".py",
   "mimetype": "text/x-python",
   "name": "python",
   "nbconvert_exporter": "python",
   "pygments_lexer": "ipython3",
   "version": "3.9.7"
  }
 },
 "nbformat": 4,
 "nbformat_minor": 5
}
