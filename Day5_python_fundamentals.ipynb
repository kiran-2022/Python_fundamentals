{
 "cells": [
  {
   "cell_type": "code",
   "execution_count": 1,
   "id": "2f5661d0",
   "metadata": {},
   "outputs": [],
   "source": [
    "cars = ['benz','tata','maruthi','hundai','honda','audi']"
   ]
  },
  {
   "cell_type": "code",
   "execution_count": 3,
   "id": "8584ea12",
   "metadata": {},
   "outputs": [
    {
     "name": "stdout",
     "output_type": "stream",
     "text": [
      "['benz', 'tata', 'maruthi', 'hundai', 'honda', 'audi']\n"
     ]
    }
   ],
   "source": [
    "print(cars)"
   ]
  },
  {
   "cell_type": "code",
   "execution_count": 4,
   "id": "d0bbfbfb",
   "metadata": {},
   "outputs": [
    {
     "name": "stdout",
     "output_type": "stream",
     "text": [
      "['audi', 'benz', 'honda', 'hundai', 'maruthi', 'tata']\n"
     ]
    }
   ],
   "source": [
    "print(sorted(cars))"
   ]
  },
  {
   "cell_type": "code",
   "execution_count": 5,
   "id": "36ca9110",
   "metadata": {},
   "outputs": [],
   "source": [
    "cars.sort()"
   ]
  },
  {
   "cell_type": "code",
   "execution_count": 6,
   "id": "cdf63ce6",
   "metadata": {},
   "outputs": [
    {
     "name": "stdout",
     "output_type": "stream",
     "text": [
      "['audi', 'benz', 'honda', 'hundai', 'maruthi', 'tata']\n"
     ]
    }
   ],
   "source": [
    "print(cars)"
   ]
  },
  {
   "cell_type": "code",
   "execution_count": 7,
   "id": "fe65961b",
   "metadata": {},
   "outputs": [
    {
     "name": "stdout",
     "output_type": "stream",
     "text": [
      "['audi', 'benz', 'honda', 'hundai', 'maruthi', 'tata']\n"
     ]
    }
   ],
   "source": [
    "print(cars)"
   ]
  },
  {
   "cell_type": "code",
   "execution_count": 8,
   "id": "9c04af55",
   "metadata": {},
   "outputs": [
    {
     "name": "stdout",
     "output_type": "stream",
     "text": [
      "Hundai\n"
     ]
    }
   ],
   "source": [
    "print(cars[3].title())"
   ]
  },
  {
   "cell_type": "code",
   "execution_count": 9,
   "id": "d36e3a7e",
   "metadata": {},
   "outputs": [],
   "source": [
    "cars.reverse()"
   ]
  },
  {
   "cell_type": "code",
   "execution_count": 10,
   "id": "4b2889f5",
   "metadata": {},
   "outputs": [
    {
     "name": "stdout",
     "output_type": "stream",
     "text": [
      "['tata', 'maruthi', 'hundai', 'honda', 'benz', 'audi']\n"
     ]
    }
   ],
   "source": [
    "print(cars)"
   ]
  },
  {
   "cell_type": "code",
   "execution_count": 11,
   "id": "e7c270a2",
   "metadata": {},
   "outputs": [],
   "source": [
    "cars.reverse()"
   ]
  },
  {
   "cell_type": "code",
   "execution_count": 12,
   "id": "3a56e3bf",
   "metadata": {},
   "outputs": [
    {
     "name": "stdout",
     "output_type": "stream",
     "text": [
      "['audi', 'benz', 'honda', 'hundai', 'maruthi', 'tata']\n"
     ]
    }
   ],
   "source": [
    "print(cars)"
   ]
  },
  {
   "cell_type": "code",
   "execution_count": null,
   "id": "57a3dfb1",
   "metadata": {},
   "outputs": [],
   "source": [
    "#Noif elements in the list "
   ]
  },
  {
   "cell_type": "code",
   "execution_count": 13,
   "id": "58593ca7",
   "metadata": {},
   "outputs": [
    {
     "data": {
      "text/plain": [
       "6"
      ]
     },
     "execution_count": 13,
     "metadata": {},
     "output_type": "execute_result"
    }
   ],
   "source": [
    "len(cars)"
   ]
  },
  {
   "cell_type": "code",
   "execution_count": null,
   "id": "91b90726",
   "metadata": {},
   "outputs": [],
   "source": [
    "#slicing of list"
   ]
  },
  {
   "cell_type": "code",
   "execution_count": 14,
   "id": "753744e0",
   "metadata": {},
   "outputs": [
    {
     "name": "stdout",
     "output_type": "stream",
     "text": [
      "['audi', 'benz', 'honda', 'hundai', 'maruthi', 'tata']\n"
     ]
    }
   ],
   "source": [
    "print(cars)"
   ]
  },
  {
   "cell_type": "code",
   "execution_count": 16,
   "id": "594376c7",
   "metadata": {},
   "outputs": [
    {
     "name": "stdout",
     "output_type": "stream",
     "text": [
      "['audi', 'benz']\n"
     ]
    }
   ],
   "source": [
    "print(cars[0:2])"
   ]
  },
  {
   "cell_type": "code",
   "execution_count": 17,
   "id": "64aea202",
   "metadata": {},
   "outputs": [
    {
     "name": "stdout",
     "output_type": "stream",
     "text": [
      "['honda', 'hundai']\n"
     ]
    }
   ],
   "source": [
    "print(cars[2:4])"
   ]
  },
  {
   "cell_type": "code",
   "execution_count": 20,
   "id": "ae38bcb2",
   "metadata": {},
   "outputs": [
    {
     "name": "stdout",
     "output_type": "stream",
     "text": [
      "['maruthi', 'tata']\n"
     ]
    }
   ],
   "source": [
    "print(cars[4:7])"
   ]
  },
  {
   "cell_type": "code",
   "execution_count": 21,
   "id": "f84d96db",
   "metadata": {},
   "outputs": [],
   "source": [
    "cars.append('ford')"
   ]
  },
  {
   "cell_type": "code",
   "execution_count": 22,
   "id": "481ebedd",
   "metadata": {},
   "outputs": [],
   "source": [
    "cars.append('kia')"
   ]
  },
  {
   "cell_type": "code",
   "execution_count": 23,
   "id": "069b24cb",
   "metadata": {},
   "outputs": [
    {
     "name": "stdout",
     "output_type": "stream",
     "text": [
      "['audi', 'benz', 'honda', 'hundai', 'maruthi', 'tata', 'ford', 'kia']\n"
     ]
    }
   ],
   "source": [
    "print(cars)"
   ]
  },
  {
   "cell_type": "code",
   "execution_count": 25,
   "id": "bc9293f3",
   "metadata": {},
   "outputs": [
    {
     "name": "stdout",
     "output_type": "stream",
     "text": [
      "['benz', 'hundai', 'tata']\n"
     ]
    }
   ],
   "source": [
    "print(cars[1:6:2])"
   ]
  },
  {
   "cell_type": "code",
   "execution_count": 26,
   "id": "261c6517",
   "metadata": {},
   "outputs": [
    {
     "name": "stdout",
     "output_type": "stream",
     "text": [
      "['audi', 'maruthi']\n"
     ]
    }
   ],
   "source": [
    "print(cars[0:8:4])"
   ]
  },
  {
   "cell_type": "code",
   "execution_count": null,
   "id": "5fd1796f",
   "metadata": {},
   "outputs": [],
   "source": []
  }
 ],
 "metadata": {
  "kernelspec": {
   "display_name": "Python 3 (ipykernel)",
   "language": "python",
   "name": "python3"
  },
  "language_info": {
   "codemirror_mode": {
    "name": "ipython",
    "version": 3
   },
   "file_extension": ".py",
   "mimetype": "text/x-python",
   "name": "python",
   "nbconvert_exporter": "python",
   "pygments_lexer": "ipython3",
   "version": "3.9.7"
  }
 },
 "nbformat": 4,
 "nbformat_minor": 5
}
